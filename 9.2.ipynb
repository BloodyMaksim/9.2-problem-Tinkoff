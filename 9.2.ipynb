{
 "cells": [
  {
   "cell_type": "code",
   "execution_count": 1,
   "metadata": {},
   "outputs": [],
   "source": [
    "import pandas as pd\n",
    "import numpy as np"
   ]
  },
  {
   "cell_type": "markdown",
   "metadata": {},
   "source": [
    "## Считаем данные, отсортируем их по убыванию basket_pct"
   ]
  },
  {
   "cell_type": "code",
   "execution_count": 2,
   "metadata": {},
   "outputs": [],
   "source": [
    "data = pd.read_csv('data_model.csv')"
   ]
  },
  {
   "cell_type": "code",
   "execution_count": 14,
   "metadata": {},
   "outputs": [],
   "source": [
    "data = data.sort_values(by=['basket_exp_pct'], ascending = False)\n",
    "data.index = np.arange(len(data))"
   ]
  },
  {
   "cell_type": "code",
   "execution_count": 15,
   "metadata": {
    "scrolled": false
   },
   "outputs": [
    {
     "data": {
      "text/html": [
       "<div>\n",
       "<style scoped>\n",
       "    .dataframe tbody tr th:only-of-type {\n",
       "        vertical-align: middle;\n",
       "    }\n",
       "\n",
       "    .dataframe tbody tr th {\n",
       "        vertical-align: top;\n",
       "    }\n",
       "\n",
       "    .dataframe thead th {\n",
       "        text-align: right;\n",
       "    }\n",
       "</style>\n",
       "<table border=\"1\" class=\"dataframe\">\n",
       "  <thead>\n",
       "    <tr style=\"text-align: right;\">\n",
       "      <th></th>\n",
       "      <th>rk</th>\n",
       "      <th>basket_exp_pct</th>\n",
       "      <th>volume_rub</th>\n",
       "      <th>margin_rub</th>\n",
       "      <th>party_prob</th>\n",
       "    </tr>\n",
       "  </thead>\n",
       "  <tbody>\n",
       "    <tr>\n",
       "      <th>0</th>\n",
       "      <td>5895389205</td>\n",
       "      <td>-0.007649</td>\n",
       "      <td>92993.0</td>\n",
       "      <td>1973.144091</td>\n",
       "      <td>0.920159</td>\n",
       "    </tr>\n",
       "    <tr>\n",
       "      <th>1</th>\n",
       "      <td>4877756813</td>\n",
       "      <td>-0.008695</td>\n",
       "      <td>95249.0</td>\n",
       "      <td>1908.207218</td>\n",
       "      <td>0.914819</td>\n",
       "    </tr>\n",
       "    <tr>\n",
       "      <th>2</th>\n",
       "      <td>2725229115</td>\n",
       "      <td>-0.008812</td>\n",
       "      <td>50624.0</td>\n",
       "      <td>2081.634147</td>\n",
       "      <td>0.914223</td>\n",
       "    </tr>\n",
       "    <tr>\n",
       "      <th>3</th>\n",
       "      <td>3443937883</td>\n",
       "      <td>-0.008829</td>\n",
       "      <td>106920.0</td>\n",
       "      <td>1853.853623</td>\n",
       "      <td>0.914136</td>\n",
       "    </tr>\n",
       "    <tr>\n",
       "      <th>4</th>\n",
       "      <td>5445886112</td>\n",
       "      <td>-0.008998</td>\n",
       "      <td>43434.0</td>\n",
       "      <td>2104.727278</td>\n",
       "      <td>0.913276</td>\n",
       "    </tr>\n",
       "    <tr>\n",
       "      <th>...</th>\n",
       "      <td>...</td>\n",
       "      <td>...</td>\n",
       "      <td>...</td>\n",
       "      <td>...</td>\n",
       "      <td>...</td>\n",
       "    </tr>\n",
       "    <tr>\n",
       "      <th>29639</th>\n",
       "      <td>2537233999</td>\n",
       "      <td>-0.146622</td>\n",
       "      <td>5234.0</td>\n",
       "      <td>446.774682</td>\n",
       "      <td>0.211112</td>\n",
       "    </tr>\n",
       "    <tr>\n",
       "      <th>29640</th>\n",
       "      <td>4546551454</td>\n",
       "      <td>-0.151881</td>\n",
       "      <td>5632.0</td>\n",
       "      <td>381.889523</td>\n",
       "      <td>0.184283</td>\n",
       "    </tr>\n",
       "    <tr>\n",
       "      <th>29641</th>\n",
       "      <td>462159591</td>\n",
       "      <td>-0.159502</td>\n",
       "      <td>5033.0</td>\n",
       "      <td>305.132431</td>\n",
       "      <td>0.145397</td>\n",
       "    </tr>\n",
       "    <tr>\n",
       "      <th>29642</th>\n",
       "      <td>7955763975</td>\n",
       "      <td>-0.163278</td>\n",
       "      <td>4840.0</td>\n",
       "      <td>265.486977</td>\n",
       "      <td>0.126130</td>\n",
       "    </tr>\n",
       "    <tr>\n",
       "      <th>29643</th>\n",
       "      <td>1659873353</td>\n",
       "      <td>-0.187725</td>\n",
       "      <td>3685.0</td>\n",
       "      <td>3.022273</td>\n",
       "      <td>0.001403</td>\n",
       "    </tr>\n",
       "  </tbody>\n",
       "</table>\n",
       "<p>29644 rows × 5 columns</p>\n",
       "</div>"
      ],
      "text/plain": [
       "               rk  basket_exp_pct  volume_rub   margin_rub  party_prob\n",
       "0      5895389205       -0.007649     92993.0  1973.144091    0.920159\n",
       "1      4877756813       -0.008695     95249.0  1908.207218    0.914819\n",
       "2      2725229115       -0.008812     50624.0  2081.634147    0.914223\n",
       "3      3443937883       -0.008829    106920.0  1853.853623    0.914136\n",
       "4      5445886112       -0.008998     43434.0  2104.727278    0.913276\n",
       "...           ...             ...         ...          ...         ...\n",
       "29639  2537233999       -0.146622      5234.0   446.774682    0.211112\n",
       "29640  4546551454       -0.151881      5632.0   381.889523    0.184283\n",
       "29641   462159591       -0.159502      5033.0   305.132431    0.145397\n",
       "29642  7955763975       -0.163278      4840.0   265.486977    0.126130\n",
       "29643  1659873353       -0.187725      3685.0     3.022273    0.001403\n",
       "\n",
       "[29644 rows x 5 columns]"
      ]
     },
     "execution_count": 15,
     "metadata": {},
     "output_type": "execute_result"
    }
   ],
   "source": [
    "data"
   ]
  },
  {
   "cell_type": "markdown",
   "metadata": {},
   "source": [
    "## Рассчитаем текущую ожидаемую прибыль при границе в -0.033"
   ]
  },
  {
   "cell_type": "code",
   "execution_count": 9,
   "metadata": {},
   "outputs": [],
   "source": [
    "po = data.loc[data['basket_exp_pct'] > -0.033] # profitable orders\n",
    "\n",
    "e_profit = sum((po['margin_rub'] + po['basket_exp_pct'] * po['volume_rub']) * po['party_prob'] - 800)"
   ]
  },
  {
   "cell_type": "code",
   "execution_count": 10,
   "metadata": {},
   "outputs": [
    {
     "data": {
      "text/plain": [
       "3376506.8460307145"
      ]
     },
     "execution_count": 10,
     "metadata": {},
     "output_type": "execute_result"
    }
   ],
   "source": [
    "e_profit # expected profit before changes"
   ]
  },
  {
   "cell_type": "markdown",
   "metadata": {},
   "source": [
    "## Сделаем линейный поиск минимума x по таблице"
   ]
  },
  {
   "cell_type": "code",
   "execution_count": 19,
   "metadata": {},
   "outputs": [],
   "source": [
    "vol_edge = 550000000\n",
    "\n",
    "def profit_cal(po):\n",
    "    return sum((po['margin_rub'] + po['basket_exp_pct'] * po['volume_rub']) * po['party_prob'] - 800)"
   ]
  },
  {
   "cell_type": "code",
   "execution_count": 22,
   "metadata": {},
   "outputs": [],
   "source": [
    "x_min = 100\n",
    "edge_optimal = 0\n",
    "vol_final = 0\n",
    "for i in range(len(data)):\n",
    "    po = data.loc[data['basket_exp_pct'] >= data.iloc[i, 1]]\n",
    "    volume_sum = sum(po['volume_rub'])\n",
    "    if volume_sum >= vol_edge:\n",
    "        x = (e_profit - profit_cal(po)) / volume_sum\n",
    "        if x < x_min:\n",
    "            x_min = x\n",
    "            edge_optimal = data.iloc[i, 1]\n",
    "            vol_final = volume_sum"
   ]
  },
  {
   "cell_type": "code",
   "execution_count": 24,
   "metadata": {},
   "outputs": [
    {
     "name": "stdout",
     "output_type": "stream",
     "text": [
      "Минимальное x:  4.0456113071562e-05\n",
      "Граница по basket_exp_pct при минимальном x:  -0.033357129\n",
      "Объем продаж при этой границе при минимальном x:  550108902.6400001\n"
     ]
    }
   ],
   "source": [
    "print(\"Минимальное x: \", x_min)\n",
    "print(\"Граница по basket_exp_pct при минимальном x: \", edge_optimal)\n",
    "print(\"Объем продаж при этой границе при минимальном x: \", vol_final)"
   ]
  },
  {
   "cell_type": "code",
   "execution_count": null,
   "metadata": {},
   "outputs": [],
   "source": []
  }
 ],
 "metadata": {
  "kernelspec": {
   "display_name": "Python 3",
   "language": "python",
   "name": "python3"
  },
  "language_info": {
   "codemirror_mode": {
    "name": "ipython",
    "version": 3
   },
   "file_extension": ".py",
   "mimetype": "text/x-python",
   "name": "python",
   "nbconvert_exporter": "python",
   "pygments_lexer": "ipython3",
   "version": "3.7.6"
  }
 },
 "nbformat": 4,
 "nbformat_minor": 4
}
